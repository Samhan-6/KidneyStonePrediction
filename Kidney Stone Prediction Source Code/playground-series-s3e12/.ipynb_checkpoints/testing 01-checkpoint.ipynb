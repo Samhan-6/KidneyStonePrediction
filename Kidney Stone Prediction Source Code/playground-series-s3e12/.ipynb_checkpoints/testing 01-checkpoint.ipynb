{
 "cells": [
  {
   "cell_type": "code",
   "execution_count": 1,
   "id": "efc5bf5f",
   "metadata": {},
   "outputs": [],
   "source": [
    "import pandas as pd \n",
    "import numpy as np\n",
    "import matplotlib.pyplot as plt\n",
    "import seaborn as sns\n",
    "import tensorflow as tf"
   ]
  },
  {
   "cell_type": "code",
   "execution_count": 2,
   "id": "fb35699d",
   "metadata": {},
   "outputs": [
    {
     "data": {
      "text/html": [
       "<div>\n",
       "<style scoped>\n",
       "    .dataframe tbody tr th:only-of-type {\n",
       "        vertical-align: middle;\n",
       "    }\n",
       "\n",
       "    .dataframe tbody tr th {\n",
       "        vertical-align: top;\n",
       "    }\n",
       "\n",
       "    .dataframe thead th {\n",
       "        text-align: right;\n",
       "    }\n",
       "</style>\n",
       "<table border=\"1\" class=\"dataframe\">\n",
       "  <thead>\n",
       "    <tr style=\"text-align: right;\">\n",
       "      <th></th>\n",
       "      <th>id</th>\n",
       "      <th>gravity</th>\n",
       "      <th>ph</th>\n",
       "      <th>osmo</th>\n",
       "      <th>cond</th>\n",
       "      <th>urea</th>\n",
       "      <th>calc</th>\n",
       "      <th>target</th>\n",
       "    </tr>\n",
       "  </thead>\n",
       "  <tbody>\n",
       "    <tr>\n",
       "      <th>0</th>\n",
       "      <td>0</td>\n",
       "      <td>1.013</td>\n",
       "      <td>6.19</td>\n",
       "      <td>443</td>\n",
       "      <td>14.8</td>\n",
       "      <td>124</td>\n",
       "      <td>1.45</td>\n",
       "      <td>0</td>\n",
       "    </tr>\n",
       "    <tr>\n",
       "      <th>1</th>\n",
       "      <td>1</td>\n",
       "      <td>1.025</td>\n",
       "      <td>5.40</td>\n",
       "      <td>703</td>\n",
       "      <td>23.6</td>\n",
       "      <td>394</td>\n",
       "      <td>4.18</td>\n",
       "      <td>0</td>\n",
       "    </tr>\n",
       "    <tr>\n",
       "      <th>2</th>\n",
       "      <td>2</td>\n",
       "      <td>1.009</td>\n",
       "      <td>6.13</td>\n",
       "      <td>371</td>\n",
       "      <td>24.5</td>\n",
       "      <td>159</td>\n",
       "      <td>9.04</td>\n",
       "      <td>0</td>\n",
       "    </tr>\n",
       "    <tr>\n",
       "      <th>3</th>\n",
       "      <td>3</td>\n",
       "      <td>1.021</td>\n",
       "      <td>4.91</td>\n",
       "      <td>442</td>\n",
       "      <td>20.8</td>\n",
       "      <td>398</td>\n",
       "      <td>6.63</td>\n",
       "      <td>1</td>\n",
       "    </tr>\n",
       "    <tr>\n",
       "      <th>4</th>\n",
       "      <td>4</td>\n",
       "      <td>1.021</td>\n",
       "      <td>5.53</td>\n",
       "      <td>874</td>\n",
       "      <td>17.8</td>\n",
       "      <td>385</td>\n",
       "      <td>2.21</td>\n",
       "      <td>1</td>\n",
       "    </tr>\n",
       "  </tbody>\n",
       "</table>\n",
       "</div>"
      ],
      "text/plain": [
       "   id  gravity    ph  osmo  cond  urea  calc  target\n",
       "0   0    1.013  6.19   443  14.8   124  1.45       0\n",
       "1   1    1.025  5.40   703  23.6   394  4.18       0\n",
       "2   2    1.009  6.13   371  24.5   159  9.04       0\n",
       "3   3    1.021  4.91   442  20.8   398  6.63       1\n",
       "4   4    1.021  5.53   874  17.8   385  2.21       1"
      ]
     },
     "execution_count": 2,
     "metadata": {},
     "output_type": "execute_result"
    }
   ],
   "source": [
    "train_data = pd.read_csv(\"train.csv\")\n",
    "test_data = pd.read_csv(\"test.csv\")\n",
    "train_data.head()"
   ]
  },
  {
   "cell_type": "code",
   "execution_count": 3,
   "id": "df67d549",
   "metadata": {},
   "outputs": [
    {
     "data": {
      "text/html": [
       "<div>\n",
       "<style scoped>\n",
       "    .dataframe tbody tr th:only-of-type {\n",
       "        vertical-align: middle;\n",
       "    }\n",
       "\n",
       "    .dataframe tbody tr th {\n",
       "        vertical-align: top;\n",
       "    }\n",
       "\n",
       "    .dataframe thead th {\n",
       "        text-align: right;\n",
       "    }\n",
       "</style>\n",
       "<table border=\"1\" class=\"dataframe\">\n",
       "  <thead>\n",
       "    <tr style=\"text-align: right;\">\n",
       "      <th></th>\n",
       "      <th>id</th>\n",
       "      <th>gravity</th>\n",
       "      <th>ph</th>\n",
       "      <th>osmo</th>\n",
       "      <th>cond</th>\n",
       "      <th>urea</th>\n",
       "      <th>calc</th>\n",
       "    </tr>\n",
       "  </thead>\n",
       "  <tbody>\n",
       "    <tr>\n",
       "      <th>0</th>\n",
       "      <td>414</td>\n",
       "      <td>1.017</td>\n",
       "      <td>5.24</td>\n",
       "      <td>345</td>\n",
       "      <td>11.5</td>\n",
       "      <td>152</td>\n",
       "      <td>1.16</td>\n",
       "    </tr>\n",
       "    <tr>\n",
       "      <th>1</th>\n",
       "      <td>415</td>\n",
       "      <td>1.020</td>\n",
       "      <td>5.68</td>\n",
       "      <td>874</td>\n",
       "      <td>29.0</td>\n",
       "      <td>385</td>\n",
       "      <td>3.46</td>\n",
       "    </tr>\n",
       "    <tr>\n",
       "      <th>2</th>\n",
       "      <td>416</td>\n",
       "      <td>1.024</td>\n",
       "      <td>5.36</td>\n",
       "      <td>698</td>\n",
       "      <td>19.5</td>\n",
       "      <td>354</td>\n",
       "      <td>13.00</td>\n",
       "    </tr>\n",
       "    <tr>\n",
       "      <th>3</th>\n",
       "      <td>417</td>\n",
       "      <td>1.020</td>\n",
       "      <td>5.33</td>\n",
       "      <td>668</td>\n",
       "      <td>25.3</td>\n",
       "      <td>252</td>\n",
       "      <td>3.46</td>\n",
       "    </tr>\n",
       "    <tr>\n",
       "      <th>4</th>\n",
       "      <td>418</td>\n",
       "      <td>1.011</td>\n",
       "      <td>5.87</td>\n",
       "      <td>567</td>\n",
       "      <td>29.0</td>\n",
       "      <td>457</td>\n",
       "      <td>2.36</td>\n",
       "    </tr>\n",
       "  </tbody>\n",
       "</table>\n",
       "</div>"
      ],
      "text/plain": [
       "    id  gravity    ph  osmo  cond  urea   calc\n",
       "0  414    1.017  5.24   345  11.5   152   1.16\n",
       "1  415    1.020  5.68   874  29.0   385   3.46\n",
       "2  416    1.024  5.36   698  19.5   354  13.00\n",
       "3  417    1.020  5.33   668  25.3   252   3.46\n",
       "4  418    1.011  5.87   567  29.0   457   2.36"
      ]
     },
     "execution_count": 3,
     "metadata": {},
     "output_type": "execute_result"
    }
   ],
   "source": [
    "test_data.head()"
   ]
  },
  {
   "cell_type": "code",
   "execution_count": 4,
   "id": "ce071ca2",
   "metadata": {},
   "outputs": [
    {
     "name": "stdout",
     "output_type": "stream",
     "text": [
      "<class 'pandas.core.frame.DataFrame'>\n",
      "RangeIndex: 414 entries, 0 to 413\n",
      "Data columns (total 8 columns):\n",
      " #   Column   Non-Null Count  Dtype  \n",
      "---  ------   --------------  -----  \n",
      " 0   id       414 non-null    int64  \n",
      " 1   gravity  414 non-null    float64\n",
      " 2   ph       414 non-null    float64\n",
      " 3   osmo     414 non-null    int64  \n",
      " 4   cond     414 non-null    float64\n",
      " 5   urea     414 non-null    int64  \n",
      " 6   calc     414 non-null    float64\n",
      " 7   target   414 non-null    int64  \n",
      "dtypes: float64(4), int64(4)\n",
      "memory usage: 26.0 KB\n"
     ]
    }
   ],
   "source": [
    "train_data.info()"
   ]
  },
  {
   "cell_type": "code",
   "execution_count": 5,
   "id": "9fe9cf3b",
   "metadata": {},
   "outputs": [
    {
     "data": {
      "text/plain": [
       "id         0\n",
       "gravity    0\n",
       "ph         0\n",
       "osmo       0\n",
       "cond       0\n",
       "urea       0\n",
       "calc       0\n",
       "target     0\n",
       "dtype: int64"
      ]
     },
     "execution_count": 5,
     "metadata": {},
     "output_type": "execute_result"
    }
   ],
   "source": [
    "train_data.isnull().sum()"
   ]
  },
  {
   "cell_type": "code",
   "execution_count": 6,
   "id": "a5334903",
   "metadata": {},
   "outputs": [
    {
     "data": {
      "text/html": [
       "<div>\n",
       "<style scoped>\n",
       "    .dataframe tbody tr th:only-of-type {\n",
       "        vertical-align: middle;\n",
       "    }\n",
       "\n",
       "    .dataframe tbody tr th {\n",
       "        vertical-align: top;\n",
       "    }\n",
       "\n",
       "    .dataframe thead th {\n",
       "        text-align: right;\n",
       "    }\n",
       "</style>\n",
       "<table border=\"1\" class=\"dataframe\">\n",
       "  <thead>\n",
       "    <tr style=\"text-align: right;\">\n",
       "      <th></th>\n",
       "      <th>id</th>\n",
       "      <th>gravity</th>\n",
       "      <th>ph</th>\n",
       "      <th>osmo</th>\n",
       "      <th>cond</th>\n",
       "      <th>urea</th>\n",
       "      <th>calc</th>\n",
       "      <th>target</th>\n",
       "    </tr>\n",
       "  </thead>\n",
       "  <tbody>\n",
       "    <tr>\n",
       "      <th>count</th>\n",
       "      <td>414.000000</td>\n",
       "      <td>414.000000</td>\n",
       "      <td>414.000000</td>\n",
       "      <td>414.000000</td>\n",
       "      <td>414.000000</td>\n",
       "      <td>414.000000</td>\n",
       "      <td>414.000000</td>\n",
       "      <td>414.000000</td>\n",
       "    </tr>\n",
       "    <tr>\n",
       "      <th>mean</th>\n",
       "      <td>206.500000</td>\n",
       "      <td>1.017894</td>\n",
       "      <td>5.955459</td>\n",
       "      <td>651.545894</td>\n",
       "      <td>21.437923</td>\n",
       "      <td>278.657005</td>\n",
       "      <td>4.114638</td>\n",
       "      <td>0.444444</td>\n",
       "    </tr>\n",
       "    <tr>\n",
       "      <th>std</th>\n",
       "      <td>119.655756</td>\n",
       "      <td>0.006675</td>\n",
       "      <td>0.642260</td>\n",
       "      <td>234.676567</td>\n",
       "      <td>7.514750</td>\n",
       "      <td>136.442249</td>\n",
       "      <td>3.217641</td>\n",
       "      <td>0.497505</td>\n",
       "    </tr>\n",
       "    <tr>\n",
       "      <th>min</th>\n",
       "      <td>0.000000</td>\n",
       "      <td>1.005000</td>\n",
       "      <td>4.760000</td>\n",
       "      <td>187.000000</td>\n",
       "      <td>5.100000</td>\n",
       "      <td>10.000000</td>\n",
       "      <td>0.170000</td>\n",
       "      <td>0.000000</td>\n",
       "    </tr>\n",
       "    <tr>\n",
       "      <th>25%</th>\n",
       "      <td>103.250000</td>\n",
       "      <td>1.012000</td>\n",
       "      <td>5.530000</td>\n",
       "      <td>455.250000</td>\n",
       "      <td>15.500000</td>\n",
       "      <td>170.000000</td>\n",
       "      <td>1.450000</td>\n",
       "      <td>0.000000</td>\n",
       "    </tr>\n",
       "    <tr>\n",
       "      <th>50%</th>\n",
       "      <td>206.500000</td>\n",
       "      <td>1.018000</td>\n",
       "      <td>5.740000</td>\n",
       "      <td>679.500000</td>\n",
       "      <td>22.200000</td>\n",
       "      <td>277.000000</td>\n",
       "      <td>3.130000</td>\n",
       "      <td>0.000000</td>\n",
       "    </tr>\n",
       "    <tr>\n",
       "      <th>75%</th>\n",
       "      <td>309.750000</td>\n",
       "      <td>1.022000</td>\n",
       "      <td>6.280000</td>\n",
       "      <td>840.000000</td>\n",
       "      <td>27.600000</td>\n",
       "      <td>385.000000</td>\n",
       "      <td>6.630000</td>\n",
       "      <td>1.000000</td>\n",
       "    </tr>\n",
       "    <tr>\n",
       "      <th>max</th>\n",
       "      <td>413.000000</td>\n",
       "      <td>1.040000</td>\n",
       "      <td>7.940000</td>\n",
       "      <td>1236.000000</td>\n",
       "      <td>38.000000</td>\n",
       "      <td>620.000000</td>\n",
       "      <td>14.340000</td>\n",
       "      <td>1.000000</td>\n",
       "    </tr>\n",
       "  </tbody>\n",
       "</table>\n",
       "</div>"
      ],
      "text/plain": [
       "               id     gravity          ph         osmo        cond  \\\n",
       "count  414.000000  414.000000  414.000000   414.000000  414.000000   \n",
       "mean   206.500000    1.017894    5.955459   651.545894   21.437923   \n",
       "std    119.655756    0.006675    0.642260   234.676567    7.514750   \n",
       "min      0.000000    1.005000    4.760000   187.000000    5.100000   \n",
       "25%    103.250000    1.012000    5.530000   455.250000   15.500000   \n",
       "50%    206.500000    1.018000    5.740000   679.500000   22.200000   \n",
       "75%    309.750000    1.022000    6.280000   840.000000   27.600000   \n",
       "max    413.000000    1.040000    7.940000  1236.000000   38.000000   \n",
       "\n",
       "             urea        calc      target  \n",
       "count  414.000000  414.000000  414.000000  \n",
       "mean   278.657005    4.114638    0.444444  \n",
       "std    136.442249    3.217641    0.497505  \n",
       "min     10.000000    0.170000    0.000000  \n",
       "25%    170.000000    1.450000    0.000000  \n",
       "50%    277.000000    3.130000    0.000000  \n",
       "75%    385.000000    6.630000    1.000000  \n",
       "max    620.000000   14.340000    1.000000  "
      ]
     },
     "execution_count": 6,
     "metadata": {},
     "output_type": "execute_result"
    }
   ],
   "source": [
    "train_data.describe()"
   ]
  },
  {
   "cell_type": "code",
   "execution_count": 7,
   "id": "08f87d82",
   "metadata": {},
   "outputs": [
    {
     "data": {
      "text/html": [
       "<div>\n",
       "<style scoped>\n",
       "    .dataframe tbody tr th:only-of-type {\n",
       "        vertical-align: middle;\n",
       "    }\n",
       "\n",
       "    .dataframe tbody tr th {\n",
       "        vertical-align: top;\n",
       "    }\n",
       "\n",
       "    .dataframe thead th {\n",
       "        text-align: right;\n",
       "    }\n",
       "</style>\n",
       "<table border=\"1\" class=\"dataframe\">\n",
       "  <thead>\n",
       "    <tr style=\"text-align: right;\">\n",
       "      <th></th>\n",
       "      <th>id</th>\n",
       "      <th>gravity</th>\n",
       "      <th>ph</th>\n",
       "      <th>osmo</th>\n",
       "      <th>cond</th>\n",
       "      <th>urea</th>\n",
       "      <th>calc</th>\n",
       "    </tr>\n",
       "  </thead>\n",
       "  <tbody>\n",
       "    <tr>\n",
       "      <th>count</th>\n",
       "      <td>276.000000</td>\n",
       "      <td>276.000000</td>\n",
       "      <td>276.000000</td>\n",
       "      <td>276.000000</td>\n",
       "      <td>276.000000</td>\n",
       "      <td>276.000000</td>\n",
       "      <td>276.000000</td>\n",
       "    </tr>\n",
       "    <tr>\n",
       "      <th>mean</th>\n",
       "      <td>551.500000</td>\n",
       "      <td>1.018330</td>\n",
       "      <td>5.939312</td>\n",
       "      <td>654.891304</td>\n",
       "      <td>21.886594</td>\n",
       "      <td>280.985507</td>\n",
       "      <td>4.076848</td>\n",
       "    </tr>\n",
       "    <tr>\n",
       "      <th>std</th>\n",
       "      <td>79.818544</td>\n",
       "      <td>0.006569</td>\n",
       "      <td>0.607143</td>\n",
       "      <td>236.361932</td>\n",
       "      <td>7.346069</td>\n",
       "      <td>134.877856</td>\n",
       "      <td>3.088524</td>\n",
       "    </tr>\n",
       "    <tr>\n",
       "      <th>min</th>\n",
       "      <td>414.000000</td>\n",
       "      <td>1.005000</td>\n",
       "      <td>4.900000</td>\n",
       "      <td>187.000000</td>\n",
       "      <td>5.100000</td>\n",
       "      <td>64.000000</td>\n",
       "      <td>0.170000</td>\n",
       "    </tr>\n",
       "    <tr>\n",
       "      <th>25%</th>\n",
       "      <td>482.750000</td>\n",
       "      <td>1.014000</td>\n",
       "      <td>5.530000</td>\n",
       "      <td>456.000000</td>\n",
       "      <td>17.400000</td>\n",
       "      <td>168.500000</td>\n",
       "      <td>1.527500</td>\n",
       "    </tr>\n",
       "    <tr>\n",
       "      <th>50%</th>\n",
       "      <td>551.500000</td>\n",
       "      <td>1.019000</td>\n",
       "      <td>5.730000</td>\n",
       "      <td>658.000000</td>\n",
       "      <td>23.600000</td>\n",
       "      <td>282.000000</td>\n",
       "      <td>3.230000</td>\n",
       "    </tr>\n",
       "    <tr>\n",
       "      <th>75%</th>\n",
       "      <td>620.250000</td>\n",
       "      <td>1.023250</td>\n",
       "      <td>6.210000</td>\n",
       "      <td>843.250000</td>\n",
       "      <td>27.600000</td>\n",
       "      <td>385.000000</td>\n",
       "      <td>5.540000</td>\n",
       "    </tr>\n",
       "    <tr>\n",
       "      <th>max</th>\n",
       "      <td>689.000000</td>\n",
       "      <td>1.034000</td>\n",
       "      <td>7.940000</td>\n",
       "      <td>1236.000000</td>\n",
       "      <td>38.000000</td>\n",
       "      <td>620.000000</td>\n",
       "      <td>14.340000</td>\n",
       "    </tr>\n",
       "  </tbody>\n",
       "</table>\n",
       "</div>"
      ],
      "text/plain": [
       "               id     gravity          ph         osmo        cond  \\\n",
       "count  276.000000  276.000000  276.000000   276.000000  276.000000   \n",
       "mean   551.500000    1.018330    5.939312   654.891304   21.886594   \n",
       "std     79.818544    0.006569    0.607143   236.361932    7.346069   \n",
       "min    414.000000    1.005000    4.900000   187.000000    5.100000   \n",
       "25%    482.750000    1.014000    5.530000   456.000000   17.400000   \n",
       "50%    551.500000    1.019000    5.730000   658.000000   23.600000   \n",
       "75%    620.250000    1.023250    6.210000   843.250000   27.600000   \n",
       "max    689.000000    1.034000    7.940000  1236.000000   38.000000   \n",
       "\n",
       "             urea        calc  \n",
       "count  276.000000  276.000000  \n",
       "mean   280.985507    4.076848  \n",
       "std    134.877856    3.088524  \n",
       "min     64.000000    0.170000  \n",
       "25%    168.500000    1.527500  \n",
       "50%    282.000000    3.230000  \n",
       "75%    385.000000    5.540000  \n",
       "max    620.000000   14.340000  "
      ]
     },
     "execution_count": 7,
     "metadata": {},
     "output_type": "execute_result"
    }
   ],
   "source": [
    "test_data.describe()"
   ]
  },
  {
   "cell_type": "code",
   "execution_count": 8,
   "id": "268c8b18",
   "metadata": {},
   "outputs": [
    {
     "data": {
      "text/plain": [
       "Index(['id', 'gravity', 'ph', 'osmo', 'cond', 'urea', 'calc', 'target'], dtype='object')"
      ]
     },
     "execution_count": 8,
     "metadata": {},
     "output_type": "execute_result"
    }
   ],
   "source": [
    "train_data.columns"
   ]
  },
  {
   "cell_type": "code",
   "execution_count": 9,
   "id": "8aef41c3",
   "metadata": {},
   "outputs": [
    {
     "name": "stdout",
     "output_type": "stream",
     "text": [
      "0    230\n",
      "1    184\n",
      "Name: target, dtype: int64 \n",
      "\n"
     ]
    },
    {
     "data": {
      "text/plain": [
       "Text(0.5, 1.0, 'Value Count of Targets')"
      ]
     },
     "execution_count": 9,
     "metadata": {},
     "output_type": "execute_result"
    },
    {
     "data": {
      "image/png": "[encoded data removed]",
      "text/plain": [
       "<Figure size 640x480 with 1 Axes>"
      ]
     },
     "metadata": {},
     "output_type": "display_data"
    }
   ],
   "source": [
    "target_count = train_data[\"target\"].value_counts()\n",
    "print(target_count, \"\\n\")\n",
    " \n",
    "target_count.plot(kind=\"pie\", autopct=\"%1.2f%%\", explode=(0.01, 0.01))\n",
    "plt.title(\"Value Count of Targets\")"
   ]
  },
  {
   "cell_type": "code",
   "execution_count": 10,
   "id": "800dd484",
   "metadata": {},
   "outputs": [
    {
     "data": {
      "image/png": "[encoded data removed]",
      "text/plain": [
       "<Figure size 640x480 with 1 Axes>"
      ]
     },
     "metadata": {},
     "output_type": "display_data"
    }
   ],
   "source": [
    "sns.histplot(data =train_data, x = \"gravity\" ,bins = 20, hue = \"target\")\n",
    "plt.title(\"Gravity distribution\");"
   ]
  },
  {
   "cell_type": "code",
   "execution_count": null,
   "id": "15daad9c",
   "metadata": {},
   "outputs": [
    {
     "data": {
      "text/plain": [
       "<seaborn.axisgrid.PairGrid at 0x169333b80>"
      ]
     },
     "execution_count": 11,
     "metadata": {},
     "output_type": "execute_result"
    }
   ],
   "source": [
    "sns.pairplot(data=train_data, vars=['gravity', 'ph', 'osmo', 'cond', 'urea', 'calc'], hue='target')"
   ]
  },
  {
   "cell_type": "code",
   "execution_count": null,
   "id": "b6f58ac3",
   "metadata": {},
   "outputs": [],
   "source": [
    "sns.jointplot(data=train_data, x='osmo', y='urea', hue='target')"
   ]
  },
  {
   "cell_type": "code",
   "execution_count": null,
   "id": "c4063cff",
   "metadata": {},
   "outputs": [],
   "source": [
    "from sklearn.preprocessing import StandardScaler\n",
    "\n",
    "scaler = StandardScaler()\n",
    "\n",
    "scaler.fit(train_data.drop(['id','target'],axis=1))\n",
    "\n",
    "transform_train_data = scaler.transform(train_data.drop(['id','target'],axis=1))\n",
    "\n",
    "transform_train_data = pd.DataFrame(transform_train_data, columns=['gravity', 'ph', 'osmo', 'cond', 'urea', 'calc'])\n",
    "\n",
    "transform_train_data.head()"
   ]
  },
  {
   "cell_type": "code",
   "execution_count": null,
   "id": "1a1a3c6f",
   "metadata": {},
   "outputs": [],
   "source": [
    " a = transform_train_data\n",
    " b = train_data['target']"
   ]
  },
  {
   "cell_type": "code",
   "execution_count": null,
   "id": "448d5964",
   "metadata": {},
   "outputs": [],
   "source": [
    "from sklearn.model_selection import train_test_split\n",
    "\n",
    "a_train_data, a_test_data, b_train_data, b_test_data = train_test_split(a, b, test_size=0.20, random_state=42)"
   ]
  },
  {
   "cell_type": "code",
   "execution_count": null,
   "id": "7e1d75fc",
   "metadata": {},
   "outputs": [],
   "source": [
    "len(a_train_data), len(b_test_data)"
   ]
  },
  {
   "cell_type": "code",
   "execution_count": null,
   "id": "f2303c63",
   "metadata": {},
   "outputs": [],
   "source": [
    "b_test_data.value_counts()"
   ]
  },
  {
   "cell_type": "code",
   "execution_count": null,
   "id": "261591fe",
   "metadata": {},
   "outputs": [],
   "source": [
    "models = {}\n",
    "\n",
    "from sklearn.linear_model import LogisticRegression\n",
    "models['Logistic Regression'] = LogisticRegression()\n",
    "\n",
    "from sklearn.svm import LinearSVC\n",
    "models['Support Vector Machines'] = LinearSVC()\n",
    "\n",
    "from sklearn.tree import DecisionTreeClassifier\n",
    "models['Decision Trees'] = DecisionTreeClassifier()\n",
    "\n",
    "from sklearn.ensemble import RandomForestClassifier\n",
    "models['Random Forest'] = RandomForestClassifier()\n",
    "\n",
    "from sklearn.naive_bayes import GaussianNB\n",
    "models['Naive Bayes'] = GaussianNB()\n",
    "\n",
    "from sklearn.neighbors import KNeighborsClassifier\n",
    "models['K-Nearest Neighbor'] = KNeighborsClassifier()"
   ]
  },
  {
   "cell_type": "code",
   "execution_count": null,
   "id": "4e58712c",
   "metadata": {},
   "outputs": [],
   "source": [
    "from sklearn.metrics import accuracy_score, precision_score, recall_score\n",
    "\n",
    "accuracy, precision, recall ={},{},{}\n",
    "\n",
    "for key in models.keys():\n",
    "    \n",
    "    models[key].fit(a_train_data,b_train_data)\n",
    "    \n",
    "    prediction = models[key].predict(a_test_data)\n",
    "    \n",
    "    accuracy[key]=accuracy_score(prediction,b_test_data)\n",
    "    precision[key]=precision_score(prediction,b_test_data)\n",
    "    recall[key]=recall_score(prediction,b_test_data)"
   ]
  },
  {
   "cell_type": "code",
   "execution_count": null,
   "id": "bfb829c0",
   "metadata": {},
   "outputs": [],
   "source": [
    "model_data = pd.DataFrame(index=models.keys(), columns=['Accuracy','Precision','Recall'])\n",
    "model_data['Accuracy']=accuracy.values()\n",
    "model_data['Precision']=precision.values()\n",
    "model_data['Recall']=recall.values()\n",
    "model_data"
   ]
  },
  {
   "cell_type": "code",
   "execution_count": null,
   "id": "346be329",
   "metadata": {},
   "outputs": [],
   "source": [
    "model_data.plot(figsize=(7,4),rot=45)\n",
    "plt.title('Evaluation Metrics');"
   ]
  },
  {
   "cell_type": "code",
   "execution_count": null,
   "id": "61424f87",
   "metadata": {},
   "outputs": [],
   "source": [
    "test_data.head()"
   ]
  },
  {
   "cell_type": "code",
   "execution_count": null,
   "id": "85a9b917",
   "metadata": {},
   "outputs": [],
   "source": [
    "test_data_without_id_target = test_data.drop(['id', 'target'], axis=1)\n",
    "transform_test_data = scaler.transform(test_data_without_id_target)\n",
    "Data_sub = test_data[['gravity', 'ph', 'osmo', 'cond', 'urea', 'calc']]\n",
    "Data_sub.head()"
   ]
  },
  {
   "cell_type": "code",
   "execution_count": null,
   "id": "be499387",
   "metadata": {},
   "outputs": [],
   "source": [
    "pred_sub = models['Support Vector Machines'].predict(Data_sub)"
   ]
  },
  {
   "cell_type": "code",
   "execution_count": null,
   "id": "001af480",
   "metadata": {},
   "outputs": [],
   "source": [
    "DataFrame_sub = test_data[['id']]"
   ]
  },
  {
   "cell_type": "code",
   "execution_count": null,
   "id": "4d908d0c",
   "metadata": {},
   "outputs": [],
   "source": [
    "DataFrame_sub=test_data['target'] = pred_sub"
   ]
  },
  {
   "cell_type": "code",
   "execution_count": null,
   "id": "18d1ecc3",
   "metadata": {},
   "outputs": [],
   "source": [
    "DataFrame_sub = pd.DataFrame(DataFrame_sub)"
   ]
  },
  {
   "cell_type": "code",
   "execution_count": null,
   "id": "4ebdcbde",
   "metadata": {},
   "outputs": [],
   "source": [
    "DataFrame_sub.to_csv('svc_sub.csv', index=False)"
   ]
  },
  {
   "cell_type": "code",
   "execution_count": null,
   "id": "b5099267",
   "metadata": {},
   "outputs": [],
   "source": [
    "tf.random.set_seed(42)\n",
    "\n",
    "dl_model = tf.keras.Sequential([\n",
    "    tf.keras.layers.Dense(25, activation='relu'),\n",
    "    tf.keras.layers.Dense(25, activation='relu'),\n",
    "    tf.keras.layers.Dense(25, activation='relu'),\n",
    "    tf.keras.layers.Dense(1, activation='sigmoid')\n",
    "])\n",
    "\n",
    "dl_model.compile(\n",
    "    loss=tf.keras.losses.BinaryCrossentropy(),\n",
    "    optimizer=tf.keras.optimizers.Adam(lr=0.00001),\n",
    "    metrics=['accuracy']\n",
    ")\n",
    "\n",
    "dl_model.fit(X_train, y_train, epochs=10, validation_data=(X_test, y_test))"
   ]
  },
  {
   "cell_type": "code",
   "execution_count": null,
   "id": "0241f77b",
   "metadata": {},
   "outputs": [],
   "source": [
    "pip install tensorflow"
   ]
  },
  {
   "cell_type": "code",
   "execution_count": null,
   "id": "a2d59217",
   "metadata": {},
   "outputs": [],
   "source": []
  },
  {
   "cell_type": "code",
   "execution_count": null,
   "id": "9e96b2a4",
   "metadata": {},
   "outputs": [],
   "source": []
  }
 ],
 "metadata": {
  "kernelspec": {
   "display_name": "Python 3 (ipykernel)",
   "language": "python",
   "name": "python3"
  },
  "language_info": {
   "codemirror_mode": {
    "name": "ipython",
    "version": 3
   },
   "file_extension": ".py",
   "mimetype": "text/x-python",
   "name": "python",
   "nbconvert_exporter": "python",
   "pygments_lexer": "ipython3",
   "version": "3.10.12"
  }
 },
 "nbformat": 4,
 "nbformat_minor": 5
}
